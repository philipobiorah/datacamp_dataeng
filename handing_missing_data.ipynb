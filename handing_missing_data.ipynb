{
 "cells": [
  {
   "cell_type": "code",
   "execution_count": 7,
   "metadata": {},
   "outputs": [],
   "source": [
    "\n",
    "#Missing Data\n",
    "import pandas as pd\n",
    "#read file form this directory : /Users/philipobiorah/DTSS_Learners_tracker/grand_merge_learners_status_27-Jan-25.csv\n",
    "learners = pd.read_csv('../DTSS_Learners_tracker/grand_merge_learners_status_27-Jan-25.csv') "
   ]
  },
  {
   "cell_type": "code",
   "execution_count": 10,
   "metadata": {},
   "outputs": [
    {
     "data": {
      "text/plain": [
       "Unnamed: 0                   0\n",
       "student_id                   0\n",
       "std_name                     0\n",
       "id                           0\n",
       "email                        0\n",
       "cohort                       0\n",
       "incomplete_ksb               0\n",
       "actual_hours                 0\n",
       "learner_activity_signoff     0\n",
       "tutor_activity_signoff       0\n",
       "last_activity_upload         2\n",
       "incomplete_evidence_list     0\n",
       "short_hours                  0\n",
       "short_weeks                  0\n",
       "not_marked_evidence          0\n",
       "Date                         0\n",
       "KSB_status                   0\n",
       "porfolio_completion          0\n",
       "days_inactive                2\n",
       "weeks_inactive               2\n",
       "weeks_inactive_since_2wks    2\n",
       "dtype: int64"
      ]
     },
     "execution_count": 10,
     "metadata": {},
     "output_type": "execute_result"
    }
   ],
   "source": [
    "learners.isna().sum() #check for missing data"
   ]
  }
 ],
 "metadata": {
  "kernelspec": {
   "display_name": "base",
   "language": "python",
   "name": "python3"
  },
  "language_info": {
   "codemirror_mode": {
    "name": "ipython",
    "version": 3
   },
   "file_extension": ".py",
   "mimetype": "text/x-python",
   "name": "python",
   "nbconvert_exporter": "python",
   "pygments_lexer": "ipython3",
   "version": "3.11.4"
  }
 },
 "nbformat": 4,
 "nbformat_minor": 2
}
